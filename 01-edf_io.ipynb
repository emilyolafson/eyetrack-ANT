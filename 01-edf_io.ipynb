{
 "cells": [
  {
   "cell_type": "code",
   "execution_count": 1,
   "metadata": {},
   "outputs": [],
   "source": [
    "import os\n",
    "import glob\n",
    "import natsort\n",
    "import re"
   ]
  },
  {
   "cell_type": "markdown",
   "metadata": {},
   "source": [
    "# BIDS\n",
    "Conversion from `/data` to a BIDS format folder\n",
    "\n",
    "Pupil data BEP: https://docs.google.com/document/d/1eggzTCzSHG3AEKhtnEDbcdk-2avXN6I94X8aUPEBVsw/edit#"
   ]
  },
  {
   "cell_type": "code",
   "execution_count": 25,
   "metadata": {},
   "outputs": [],
   "source": [
    "# function to get a list of files:\n",
    "def get_files(pattern):\n",
    "    \"\"\"\n",
    "    Extracts filesee in alphanumereical order that match the provided pattern\n",
    "    \"\"\"\n",
    "    if isinstance(pattern, list):\n",
    "        pattern = os.path.join(*pattern)\n",
    "        \n",
    "    files = natsort.natsorted(glob.glob(pattern))\n",
    "    if not files:\n",
    "        raise FileNotFoundError('Pattern could not detect file(s)')\n",
    "    \n",
    "    return files\n",
    "\n",
    "def get_sub_ses(files):\n",
    "    \"\"\"\n",
    "    For all input file names, split into sub and ses\n",
    "    \"\"\"\n",
    "    # first get only file name:\n",
    "    fname = files.split('/')[2]\n",
    "    print(fname)\n",
    "    # create sub and ses:\n",
    "    combo = re.match(r'(.*)_([sS]\\d).(edf|txt)', fname)\n",
    "    sub = combo.groups()[0]\n",
    "    ses = combo.groups()[1][1]\n",
    "    \n",
    "    return sub, ses"
   ]
  },
  {
   "cell_type": "markdown",
   "metadata": {},
   "source": [
    "Data Inputs:"
   ]
  },
  {
   "cell_type": "code",
   "execution_count": 26,
   "metadata": {},
   "outputs": [],
   "source": [
    "eye_data = 'data/eyetracking_EEG/'\n",
    "beh_data = 'data/AttentionNetwork_Behavioural/'\n",
    "BIDS_dir = 'BIDS'"
   ]
  },
  {
   "cell_type": "markdown",
   "metadata": {},
   "source": [
    "Get files:"
   ]
  },
  {
   "cell_type": "code",
   "execution_count": 27,
   "metadata": {},
   "outputs": [
    {
     "name": "stdout",
     "output_type": "stream",
     "text": [
      "There are 55 eye data files\n",
      "There are 56 behavior data files\n"
     ]
    }
   ],
   "source": [
    "eye_data_files = get_files(eye_data+'*.edf') # 55 files\n",
    "beh_data_files = get_files(beh_data+'*.txt') # 56 files\n",
    "print('There are {} eye data files'.format(len(eye_data_files)))\n",
    "print('There are {} behavior data files'.format(len(beh_data_files)))"
   ]
  },
  {
   "cell_type": "markdown",
   "metadata": {},
   "source": [
    "Create BIDS skeleton"
   ]
  },
  {
   "cell_type": "code",
   "execution_count": 33,
   "metadata": {},
   "outputs": [
    {
     "name": "stdout",
     "output_type": "stream",
     "text": [
      "HC002_S1.edf\n",
      "HC002_S2.edf\n",
      "HC004_S1.edf\n",
      "HC004_S2.edf\n",
      "HC005_S1.edf\n",
      "HC005_S2.edf\n",
      "HC006_S1.edf\n",
      "HC006_S2.edf\n",
      "HC007_S1.edf\n",
      "HC007_S2.edf\n",
      "HC008_S1.edf\n",
      "HC008_S2.edf\n",
      "HC009_S1.edf\n",
      "HC009_S2.edf\n",
      "HC010_S1.edf\n",
      "HC010_S2.edf\n",
      "HC011_S1.edf\n",
      "HC011_S2.edf\n",
      "HC012_S1.edf\n",
      "HC012_S2.edf\n",
      "TBI001_S2.edf\n",
      "TBI003_S1.edf\n",
      "TBI003_S2.edf\n",
      "TBI004_S1.edf\n",
      "TBI004_S2.edf\n",
      "TBI005_S1.edf\n",
      "TBI005_S2.edf\n",
      "TBI007_S1.edf\n",
      "TBI007_S2.edf\n",
      "TBI008_S1.edf\n",
      "TBI008_S2.edf\n",
      "TBI009_S2.edf\n",
      "TBI010_S1.edf\n",
      "TBI010_S2.edf\n",
      "TBI011_S1.edf\n",
      "TBI011_S2.edf\n",
      "TBI012_S1.edf\n",
      "TBI012_S2.edf\n",
      "TBI013_S1.edf\n",
      "TBI013_S2.edf\n",
      "TBI014_S1.edf\n",
      "TBI014_S2.edf\n",
      "TBI015_S1.edf\n",
      "TBI016_S1.edf\n",
      "TBI017_S1.edf\n",
      "TBI017_S2.edf\n",
      "TBI018_S1.edf\n",
      "TBI019_S1.edf\n",
      "TBI020_S1.edf\n",
      "TBI021_S1.edf\n",
      "TBI022_S1.edf\n",
      "TBI023_S1.edf\n",
      "TBI024_S1.edf\n",
      "TBI025_S1.edf\n",
      "TBI026_S1.edf\n"
     ]
    }
   ],
   "source": [
    "from shutil import copyfile\n",
    "\n",
    "for file in eye_data_files:\n",
    "    sub, ses = get_sub_ses(file)\n",
    "    bids_path = os.path.join('BIDS', 'sub-'+sub, 'ses-0'+ses, 'eyetrack')\n",
    "    os.makedirs(bids_path, exist_ok=True)\n",
    "    copyfile(file, os.path.join(bids_path, 'sub-' + sub + '_ses-0' + ses + '_task-ANT_eyetrack.edf'))\n",
    "    open(os.path.join(bids_path, 'sub-' + sub + '_ses-0' + ses + '_task-ANT_eyetrack.json'), 'a').close()"
   ]
  },
  {
   "cell_type": "code",
   "execution_count": 34,
   "metadata": {},
   "outputs": [
    {
     "name": "stdout",
     "output_type": "stream",
     "text": [
      "HC002_S1.txt\n",
      "HC002_S2.txt\n",
      "HC004_S1.txt\n",
      "HC004_S2.txt\n",
      "HC005_S1.txt\n",
      "HC005_S2.txt\n",
      "HC006_S1.txt\n",
      "HC006_S2.txt\n",
      "HC007_S1.txt\n",
      "HC007_S2.txt\n",
      "HC008_S1.txt\n",
      "HC008_S2.txt\n",
      "HC009_S1.txt\n",
      "HC009_S2.txt\n",
      "HC010_S1.txt\n",
      "HC010_S2.txt\n",
      "HC011_S1.txt\n",
      "HC011_S2.txt\n",
      "HC012_S1.txt\n",
      "HC012_S2.txt\n",
      "TBI001_S2.txt\n",
      "TBI003_S1.txt\n",
      "TBI003_S2.txt\n",
      "TBI004_S1.txt\n",
      "TBI004_S2.txt\n",
      "TBI005_S1.txt\n",
      "TBI005_S2.txt\n",
      "TBI007_S1.txt\n",
      "TBI007_S2.txt\n",
      "TBI008_S1.txt\n",
      "TBI008_S2.txt\n",
      "TBI009_S1.txt\n",
      "TBI009_S2.txt\n",
      "TBI010_S1.txt\n",
      "TBI010_S2.txt\n",
      "TBI011_S1.txt\n",
      "TBI011_S2.txt\n",
      "TBI012_S1.txt\n",
      "TBI012_S2.txt\n",
      "TBI013_S1.txt\n",
      "TBI013_S2.txt\n",
      "TBI014_S1.txt\n",
      "TBI014_S2.txt\n",
      "TBI015_S1.txt\n",
      "TBI016_S1.txt\n",
      "TBI017_S1.txt\n",
      "TBI017_S2.txt\n",
      "TBI018_S1.txt\n",
      "TBI019_S1.txt\n",
      "TBI020_S1.txt\n",
      "TBI021_S1.txt\n",
      "TBI022_S1.txt\n",
      "TBI023_S1.txt\n",
      "TBI024_S1.txt\n",
      "TBI025_S1.txt\n",
      "TBI026_S1.txt\n"
     ]
    }
   ],
   "source": [
    "for file in beh_data_files:\n",
    "    sub, ses = get_sub_ses(file)\n",
    "    bids_path = os.path.join('BIDS', 'sub-'+sub, 'ses-0'+ses, 'eyetrack')\n",
    "    os.makedirs(bids_path, exist_ok=True)\n",
    "    copyfile(file, os.path.join(bids_path, 'sub-' + sub + '_ses-0' + ses + '_task-ANT_events.txt'))"
   ]
  }
 ],
 "metadata": {
  "kernelspec": {
   "display_name": "eyetrack",
   "language": "python",
   "name": "eyetrack"
  },
  "language_info": {
   "codemirror_mode": {
    "name": "ipython",
    "version": 3
   },
   "file_extension": ".py",
   "mimetype": "text/x-python",
   "name": "python",
   "nbconvert_exporter": "python",
   "pygments_lexer": "ipython3",
   "version": "3.9.1"
  }
 },
 "nbformat": 4,
 "nbformat_minor": 4
}
